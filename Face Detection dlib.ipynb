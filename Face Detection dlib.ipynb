{
 "cells": [
  {
   "cell_type": "code",
   "execution_count": 1,
   "metadata": {},
   "outputs": [],
   "source": [
    "import dlib\n",
    "from skimage import io\n",
    "from scipy.spatial import distance"
   ]
  },
  {
   "cell_type": "code",
   "execution_count": 2,
   "metadata": {},
   "outputs": [],
   "source": [
    "sp = dlib.shape_predictor('shape_predictor_68_face_landmarks.dat')\n",
    "facerec = dlib.face_recognition_model_v1('dlib_face_recognition_resnet_model_v1.dat')\n",
    "detector = dlib.get_frontal_face_detector()"
   ]
  },
  {
   "cell_type": "code",
   "execution_count": 9,
   "metadata": {},
   "outputs": [
    {
     "name": "stdout",
     "output_type": "stream",
     "text": [
      "Detection 0: Left: 498 Top: 142 Right: 765 Bottom: 409\n"
     ]
    },
    {
     "data": {
      "text/plain": [
       "dlib.vector([-0.0951589, 0.10776, 0.120635, -0.0914595, -0.124426, 0.0389344, -0.000292338, -0.133802, 0.192727, -0.0542526, 0.220804, -0.0881851, -0.193904, 0.0310251, 0.0195564, 0.0688427, -0.163815, -0.0939703, -0.0771038, -0.182668, 0.0724251, 0.070646, 0.0425217, -0.0360512, -0.200694, -0.288417, -0.0535666, -0.0867327, 0.171026, -0.0225683, 0.0366186, 0.0298907, -0.209091, -0.00836305, 0.0226465, 0.0724972, -0.113517, -0.108275, 0.193488, -0.0200444, -0.197707, -0.0155131, -0.0454986, 0.16679, 0.185438, -0.00374118, 0.0139571, -0.110184, 0.11017, -0.207172, 0.125172, 0.204404, -0.0078593, 0.0249125, 0.158587, -0.109006, -0.030112, 0.176465, -0.133002, 0.0359938, 0.120512, -0.0444888, -0.0205783, -0.147066, 0.103244, 0.110966, -0.0678148, -0.167548, 0.166341, -0.0731186, -0.100983, 0.150586, -0.115706, -0.125464, -0.297416, 0.0150162, 0.484044, 0.0672895, -0.15499, -0.0221371, -0.0401695, 0.00996523, 0.168584, 0.0485482, -0.073175, -0.0552238, -0.0506026, 0.0127584, 0.185734, -0.0239771, -0.132765, 0.185504, -0.041568, 0.0161981, 0.0131329, 0.0719694, -0.0882703, -0.0186761, -0.089233, -0.0682324, 0.0892465, -0.0476965, -0.058779, 0.172284, -0.208599, 0.197096, 0.00686096, 0.00805786, -0.00724796, -0.0693938, -0.0591993, 0.0845916, 0.192875, -0.31756, 0.172409, 0.157345, -0.0306312, 0.126129, 0.054049, -0.00428309, -0.000742322, -0.0167187, -0.217207, -0.102471, 0.0077491, -0.00644955, -0.00574894, 0.050697])"
      ]
     },
     "execution_count": 9,
     "metadata": {},
     "output_type": "execute_result"
    }
   ],
   "source": [
    "# Finding all dots for first image and creating its descriptor\n",
    "\n",
    "pool_photo = io.imread('iu2.jpeg')\n",
    "dets = detector(pool_photo, 1)\n",
    "\n",
    "for k, d in enumerate(dets):\n",
    "    print(\"Detection {}: Left: {} Top: {} Right: {} Bottom: {}\".format(\n",
    "        k, d.left(), d.top(), d.right(), d.bottom()))\n",
    "    shape = sp(pool_photo, d)\n",
    "\n",
    "face_descriptor1 = facerec.compute_face_descriptor(pool_photo, shape)\n",
    "\n",
    "face_descriptor1"
   ]
  },
  {
   "cell_type": "code",
   "execution_count": 13,
   "metadata": {},
   "outputs": [
    {
     "name": "stdout",
     "output_type": "stream",
     "text": [
      "Detection 0: Left: 419 Top: 170 Right: 740 Bottom: 491\n"
     ]
    },
    {
     "data": {
      "text/plain": [
       "dlib.vector([-0.137534, 0.0946701, 0.0394633, -0.0981424, -0.10879, -0.0324251, -0.0452142, -0.110729, 0.097741, -0.118807, 0.258541, -0.0960058, -0.225375, 0.00228243, -0.0328793, 0.13386, -0.196341, -0.0496079, -0.0918599, -0.0908739, 0.0281281, 0.151939, 0.00921066, 0.042962, -0.0883428, -0.255607, -0.0636904, -0.103922, -0.00415027, -0.122403, -0.0217701, 0.00482534, -0.142651, -0.0704908, 0.0770258, 0.0940338, -0.122064, -0.103996, 0.1868, 0.00197242, -0.111557, -0.0264664, 0.082877, 0.323785, 0.189543, 0.0511914, -0.074953, -0.0916895, 0.175826, -0.277307, 0.141672, 0.0603103, 0.127806, 0.0792992, 0.097929, -0.0916083, -0.0041981, 0.113388, -0.128926, 0.00434542, 0.0952023, -0.0515095, -0.0313248, -0.0920664, 0.248812, 0.0999899, -0.132047, -0.0639897, 0.143168, -0.0868754, -0.175083, 0.0220286, -0.104655, -0.155076, -0.242192, 0.0427515, 0.37551, 0.106855, -0.1855, -0.0127768, 0.00392251, -0.040807, 0.103399, 0.108861, -0.0310021, -0.0232879, -0.0238814, 0.0774451, 0.227229, -0.109716, -0.109764, 0.226509, 0.00837582, 0.021524, 0.072619, -0.00789537, -0.0375149, -0.0172215, -0.180627, -0.0190913, 0.123863, -0.00414198, -0.0510246, 0.143324, -0.165142, 0.192666, 0.0470444, -0.0420571, 0.0287389, -0.0822653, -0.133027, 0.00622005, 0.144292, -0.23414, 0.200053, 0.0951225, 0.0679879, 0.158366, 0.0538245, -0.0178753, 0.0872113, -0.0135281, -0.201464, -0.131249, 0.162728, 0.0706416, 0.079472, 0.032006])"
      ]
     },
     "execution_count": 13,
     "metadata": {},
     "output_type": "execute_result"
    }
   ],
   "source": [
    "webcam_photo = io.imread('webcam_photo.jpg')\n",
    "\n",
    "dets_webcam = detector(webcam_photo, 1)\n",
    "for k, d in enumerate(dets_webcam):\n",
    "    print(\"Detection {}: Left: {} Top: {} Right: {} Bottom: {}\".format(\n",
    "        k, d.left(), d.top(), d.right(), d.bottom()))\n",
    "    shape = sp(webcam_photo, d)\n",
    "    \n",
    "face_descriptor2 = facerec.compute_face_descriptor(webcam_photo, shape)\n",
    "\n",
    "face_descriptor2"
   ]
  },
  {
   "cell_type": "code",
   "execution_count": 14,
   "metadata": {},
   "outputs": [
    {
     "data": {
      "text/plain": [
       "0.7023933765192879"
      ]
     },
     "execution_count": 14,
     "metadata": {},
     "output_type": "execute_result"
    }
   ],
   "source": [
    "a = distance.euclidean(face_descriptor1, face_descriptor2)\n",
    "\n",
    "a"
   ]
  },
  {
   "cell_type": "code",
   "execution_count": null,
   "metadata": {},
   "outputs": [],
   "source": []
  }
 ],
 "metadata": {
  "kernelspec": {
   "display_name": "Python 3",
   "language": "python",
   "name": "python3"
  },
  "language_info": {
   "codemirror_mode": {
    "name": "ipython",
    "version": 3
   },
   "file_extension": ".py",
   "mimetype": "text/x-python",
   "name": "python",
   "nbconvert_exporter": "python",
   "pygments_lexer": "ipython3",
   "version": "3.7.4"
  }
 },
 "nbformat": 4,
 "nbformat_minor": 2
}
