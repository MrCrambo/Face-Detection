{
 "cells": [
  {
   "cell_type": "code",
   "execution_count": 2,
   "metadata": {},
   "outputs": [],
   "source": [
    "import dlib\n",
    "from skimage import io\n",
    "from imageio import imread\n",
    "from scipy.spatial import distance, KDTree\n",
    "import json"
   ]
  },
  {
   "cell_type": "code",
   "execution_count": 3,
   "metadata": {},
   "outputs": [],
   "source": [
    "sp = dlib.shape_predictor('../models/shape_predictor_68_face_landmarks.dat')\n",
    "facerec = dlib.face_recognition_model_v1('../models/dlib_face_recognition_resnet_model_v1.dat')\n",
    "detector = dlib.get_frontal_face_detector()\n",
    "\n",
    "class FaceDetecting:\n",
    "\n",
    "    descriptor = None\n",
    "    \n",
    "    def __init__(self, person_name: str, person_image: str, person_info=''):\n",
    "        self.name = person_name\n",
    "        self.image = person_image\n",
    "        self.info = person_info\n",
    "        self.descriptor = self.find_descriptor()\n",
    "    \n",
    "    def find_descriptor(self):\n",
    "        dets = detector(self.image, 1)\n",
    "        \n",
    "        for k, d in enumerate(dets):\n",
    "            shape = sp(self.image, d)\n",
    "        \n",
    "        return facerec.compute_face_descriptor(self.image, shape)\n",
    "            \n",
    "\n",
    "def euclidian_distance(vector1, vector2):\n",
    "    return distance.euclidean(vector1, vector2)\n",
    "    "
   ]
  },
  {
   "cell_type": "code",
   "execution_count": 4,
   "metadata": {},
   "outputs": [],
   "source": [
    "import urllib\n",
    "from bs4 import BeautifulSoup as bs\n",
    "import re\n",
    "\n",
    "hdr = {'User-Agent': 'Mozilla/5.0 (X11; Linux x86_64) AppleWebKit/537.11 (KHTML, like Gecko) Chrome/23.0.1271.64 Safari/537.11',\n",
    "       'Accept': 'text/html,application/xhtml+xml,application/xml;q=0.9,*/*;q=0.8',\n",
    "       'Accept-Charset': 'ISO-8859-1,utf-8;q=0.7,*;q=0.3',\n",
    "       'Accept-Encoding': 'none',\n",
    "       'Accept-Language': 'en-US,en;q=0.8',\n",
    "       'Connection': 'keep-alive'}"
   ]
  },
  {
   "cell_type": "code",
   "execution_count": 14,
   "metadata": {},
   "outputs": [
    {
     "name": "stdout",
     "output_type": "stream",
     "text": [
      "https://m.media-amazon.com/images/M/MV5BMTIxMjQxNzg1M15BMl5BanBnXkFtZTcwMTIzNTMzMQ@@.1_V1_SY1000_CR0.jpg\n",
      "Wrong image format for : Valerie Mahaffey\n",
      "\n",
      "https://m.media-amazon.com/images/M/MV5BMjE1NzU2NzQxNl5BMl5BanBnXkFtZTgwNTA3MzIyMDE@.1_V1_SY1000_CR0.jpg\n",
      "https://m.media-amazon.com/images/M/MV5BMjI4NTQzMjIzMl5BMl5BanBnXkFtZTgwNjQwNDQxMDE@.1_V1_SY1000_CR0.jpg\n",
      "Wrong image format for : Jama Williamson\n",
      "\n",
      "https://m.media-amazon.com/images/M/MV5BMTQxMjY5MDk4NV5BMl5BanBnXkFtZTcwNDgwNDY1Mg@@.1_V1_SY1000_CR0.jpg\n",
      "https://m.media-amazon.com/images/M/MV5BMjQ1MTE0NTQxMl5BMl5BanBnXkFtZTgwMzI3NzUyMTI@.1_V1_SY1000_CR0.jpg\n",
      "Wrong image format for : Audie Murphy\n",
      "\n",
      "https://m.media-amazon.com/images/M/MV5BMTc1ODIxNjMxM15BMl5BanBnXkFtZTgwODExMTk3NzE@.1_V1_SY1000_CR0.jpg\n",
      "https://m.media-amazon.com/images/M/MV5BM2YyNDJmMDQtMjY1Zi00OGZiLWFlMDAtNGQzNWM3OGFlMmNlXkEyXkFqcGdeQXVyMjQ2ODU1NTM@.1_V1_SY1000_CR0.jpg\n",
      "https://m.media-amazon.com/images/M/MV5BMjM1Njc0MTkxOF5BMl5BanBnXkFtZTgwOTE2NzEyMjE@.1_V1_SY1000_CR0.jpg\n",
      "https://m.media-amazon.com/images/G/01/imdb/images/nopicture/medium/name-2135195744._CB470041852_.png@.1_V1_SY1000_CR0.jpg\n",
      "Wrong image format for : Micheline Roquebrune\n",
      "\n",
      "https://m.media-amazon.com/images/M/MV5BMTU0NzE2MTY3M15BMl5BanBnXkFtZTcwOTAyMzc0Mw@@.1_V1_SY1000_CR0.jpg\n",
      "https://m.media-amazon.com/images/M/MV5BMjEzMDU5NjAzM15BMl5BanBnXkFtZTcwOTk2ODMwMg@@.1_V1_SY1000_CR0.jpg\n",
      "https://m.media-amazon.com/images/M/MV5BMjI4MjEwODAzN15BMl5BanBnXkFtZTcwNjQ5NDY3NA@@.1_V1_SY1000_CR0.jpg\n",
      "https://m.media-amazon.com/images/M/MV5BMWE4YzFkMjUtODY3Zi00OTA5LTgzNTItZWQxNTk2ZTA5ZTliXkEyXkFqcGdeQXVyMTk3MzM5MDA@.1_V1_SY1000_CR0.jpg\n",
      "https://m.media-amazon.com/images/M/MV5BMmNhZjAzNzQtNjE4NC00MDNmLWJjNWItZmNlMGUxNGYwMGM1XkEyXkFqcGdeQXVyNDg4NjY5OTQ@.1_V1_SY1000_CR0.jpg\n",
      "https://m.media-amazon.com/images/M/MV5BMTMyODk1NDcxOF5BMl5BanBnXkFtZTcwNjEwODI2Mg@@.1_V1_SY1000_CR0.jpg\n",
      "Wrong image format for : Orla Brady\n",
      "\n",
      "https://m.media-amazon.com/images/M/MV5BMTc5NzQ4MjY4MV5BMl5BanBnXkFtZTYwMjcyNTM1._V1_UY209_CR0,0,140,209_AL_.jpg@.1_V1_SY1000_CR0.jpg\n",
      "https://m.media-amazon.com/images/M/MV5BMjMwODQyODk4Nl5BMl5BanBnXkFtZTgwNDEyNjY3NzM@.1_V1_SY1000_CR0.jpg\n",
      "https://m.media-amazon.com/images/M/MV5BMTQyOTgzODE1MF5BMl5BanBnXkFtZTcwMzI4MjUxOA@@.1_V1_SY1000_CR0.jpg\n",
      "https://m.media-amazon.com/images/M/MV5BYzBkMWE3NDktN2IxNi00OWE2LWFjMWUtN2I2ZWEzNmYxZDE5XkEyXkFqcGdeQXVyNjIyMzI5MTM@.1_V1_SY1000_CR0.jpg\n",
      "https://m.media-amazon.com/images/M/MV5BMTM1MjkyMTExNl5BMl5BanBnXkFtZTcwNzg2ODE3OA@@.1_V1_SY1000_CR0.jpg\n",
      "https://m.media-amazon.com/images/M/MV5BMTY2ODkzMzk4NV5BMl5BanBnXkFtZTYwNTc3NDI0._V1_UY209_CR1,0,140,209_AL_.jpg@.1_V1_SY1000_CR0.jpg\n",
      "https://m.media-amazon.com/images/M/MV5BMTg2NDc4NzQ3MF5BMl5BanBnXkFtZTcwNjk0MDY2MQ@@.1_V1_SY1000_CR0.jpg\n",
      "https://m.media-amazon.com/images/M/MV5BMTI5ODM3NzMyNl5BMl5BanBnXkFtZTYwMjAxOTYy._V1_UY209_CR1,0,140,209_AL_.jpg@.1_V1_SY1000_CR0.jpg\n",
      "https://m.media-amazon.com/images/M/MV5BNTk0MTA2MjI3OF5BMl5BanBnXkFtZTcwNDAyMDYzOA@@.1_V1_SY1000_CR0.jpg\n",
      "https://m.media-amazon.com/images/M/MV5BMjE1ODc2MjEzMV5BMl5BanBnXkFtZTgwNDg1MzQxMDE@.1_V1_SY1000_CR0.jpg\n",
      "https://m.media-amazon.com/images/M/MV5BYmY2M2Y0YTktZDA1MC00ZTY5LWFlZGYtYmRlMjQwMzY4NDQ3XkEyXkFqcGdeQXVyMjc3NzE4OTQ@.1_V1_SY1000_CR0.jpg\n",
      "https://m.media-amazon.com/images/M/MV5BMjIxOTU4NzkxN15BMl5BanBnXkFtZTgwODYxMzg1MTI@.1_V1_SY1000_CR0.jpg\n",
      "https://m.media-amazon.com/images/M/MV5BMTQ0Njc1ODQ5MV5BMl5BanBnXkFtZTcwODg5MjIzMQ@@.1_V1_SY1000_CR0.jpg\n",
      "https://m.media-amazon.com/images/M/MV5BMTc1MzUxMDA5Ml5BMl5BanBnXkFtZTcwMTYzMzMxOA@@.1_V1_SY1000_CR0.jpg\n",
      "https://m.media-amazon.com/images/M/MV5BMjEyNzE2OTE1NV5BMl5BanBnXkFtZTYwMTg1ODI2._V1_UY209_CR0,0,140,209_AL_.jpg@.1_V1_SY1000_CR0.jpg\n",
      "https://m.media-amazon.com/images/M/MV5BZWE5NDVkOTctYmExYS00N2VhLTlmMzEtMDViY2I4MjhmZTFkXkEyXkFqcGdeQXVyMjQwMDg0Ng@@.1_V1_SY1000_CR0.jpg\n",
      "https://m.media-amazon.com/images/M/MV5BMjEzMjA4NTEwOF5BMl5BanBnXkFtZTcwMTU0MjIwNw@@.1_V1_SY1000_CR0.jpg\n",
      "https://m.media-amazon.com/images/M/MV5BNjQ3NzYyMjI2Ml5BMl5BanBnXkFtZTgwOTIxMjcwMDI@.1_V1_SY1000_CR0.jpg\n",
      "https://m.media-amazon.com/images/M/MV5BMzVjNTdmZGEtYjBmNC00YTUzLWE4MDQtOGVhYWQ1NGVhZWQzXkEyXkFqcGdeQXVyMzg3MjUyOQ@@.1_V1_SY1000_CR0.jpg\n",
      "https://m.media-amazon.com/images/M/MV5BMTgzNzM5NzMxN15BMl5BanBnXkFtZTcwNjc4MDYxOA@@.1_V1_SY1000_CR0.jpg\n",
      "Wrong image format for : Ted Cassidy\n",
      "\n",
      "https://m.media-amazon.com/images/M/MV5BMTczNTgyMDI4OF5BMl5BanBnXkFtZTcwNTI5MzcxOA@@.1_V1_SY1000_CR0.jpg\n",
      "https://m.media-amazon.com/images/M/MV5BMzVkNmMxYTktZWM0Mi00ZWY0LWE1ZGItYjYxMjI1NTAwZDU5XkEyXkFqcGdeQXVyNDUzOTQ5MjY@.1_V1_SY1000_CR0.jpg\n",
      "https://m.media-amazon.com/images/M/MV5BMTk4ODM4MDIwM15BMl5BanBnXkFtZTYwNDg4MzI1._V1_UY209_CR15,0,140,209_AL_.jpg@.1_V1_SY1000_CR0.jpg\n",
      "https://m.media-amazon.com/images/M/MV5BODJkZDk5NmYtODc4Yi00ZjkwLThmNzMtMmZkNzcwMjExNjdiXkEyXkFqcGdeQXVyODcxNTYxMTU@.1_V1_SY1000_CR0.jpg\n",
      "https://m.media-amazon.com/images/M/MV5BZmI1MDNmMGEtYTM2Mi00YjY3LWFiYWItN2I3MGI5NTQxNzJmXkEyXkFqcGdeQXVyNDIyNzQ0Mw@@.1_V1_SY1000_CR0.jpg\n",
      "https://m.media-amazon.com/images/M/MV5BMjk0MTE5MDM2OV5BMl5BanBnXkFtZTcwODgyMDgxOA@@.1_V1_SY1000_CR0.jpg\n",
      "https://m.media-amazon.com/images/M/MV5BMTI4ODkzNTMxNF5BMl5BanBnXkFtZTcwNzk5ODk4Mw@@.1_V1_SY1000_CR0.jpg\n",
      "https://m.media-amazon.com/images/M/MV5BMTA0Nzk3NDA4NjdeQTJeQWpwZ15BbWU2MDM0MTEzNg@@.1_V1_SY1000_CR0.jpg\n",
      "Wrong image format for : Ruth Chatterton\n",
      "\n",
      "https://m.media-amazon.com/images/M/MV5BNzgwNjM4ZDMtM2MzMC00ZmM5LTkwYmItODFkMmJjZWVkMDAyXkEyXkFqcGdeQXVyMjQwMDg0Ng@@.1_V1_SY1000_CR0.jpg\n",
      "https://m.media-amazon.com/images/M/MV5BMjc2NDYxODE0MV5BMl5BanBnXkFtZTcwOTk1NTk5MQ@@.1_V1_SY1000_CR0.jpg\n",
      "https://m.media-amazon.com/images/M/MV5BMjEyNzkyMDM5N15BMl5BanBnXkFtZTgwNjIzMjY3NzE@.1_V1_SY1000_CR0.jpg\n",
      "https://m.media-amazon.com/images/M/MV5BMTAzNjQzMTEzMzJeQTJeQWpwZ15BbWU3MDkxNjA4NDc@.1_V1_SY1000_CR0.jpg\n",
      "https://m.media-amazon.com/images/M/MV5BNTM2MDU4OTQtMzhmMC00YzA3LWFkNGQtZTNlNzhhOGI3MDVkXkEyXkFqcGdeQXVyMjQwMDg0Ng@@.1_V1_SY1000_CR0.jpg\n",
      "https://m.media-amazon.com/images/M/MV5BMTUzMjkxMTY5MF5BMl5BanBnXkFtZTYwODg1NDgz._V1_UX140_CR0,0,140,209_AL_.jpg@.1_V1_SY1000_CR0.jpg\n",
      "https://m.media-amazon.com/images/M/MV5BNTViZDAyMWYtMmJiYi00OTU1LWE4MTAtNDFkYmE5NjVmNjE2XkEyXkFqcGdeQXVyMjA2Mzg1MjE@.1_V1_SY1000_CR0.jpg\n"
     ]
    }
   ],
   "source": [
    "actors_array = []\n",
    "wrong_actors = []\n",
    "\n",
    "def get_actors_from_page(link: str, from_page: int):\n",
    "    actors = bs(urllib.request.urlopen(link + str(from_page)).read()).find(\"div\", {\"class\": \"lister-list\"}).find_all(\"div\", {\"class\": \"lister-item mode-detail\"})\n",
    "    for actor in actors:\n",
    "        print(actor.find('img')['src'].split('@.')[0] + '@.1_V1_SY1000_CR0.jpg')\n",
    "        try:\n",
    "            actors_array.append(FaceDetecting(person_name=actor.find('h3').find('a').text, person_image=imread(actor.find('img')['src'].split('@.')[0] + '@._V1_SY1000_CR0.jpg')))\n",
    "        except:\n",
    "            print('Wrong image format for :' + actor.find('h3').find('a').text)\n",
    "            wrong_actors.append(actor.find('h3').find('a').text)\n",
    "\n",
    "get_actors_from_page('https://www.imdb.com/search/name/?gender=male,female&ref_=rlm&start=', 5001)\n",
    "            \n",
    "# for i in range(100):\n",
    "#     print(i)\n",
    "#     get_actors_from_page('https://www.imdb.com/search/name/?gender=male,female&ref_=rlm&start=', 1 + 50 * i)"
   ]
  },
  {
   "cell_type": "code",
   "execution_count": 15,
   "metadata": {},
   "outputs": [],
   "source": [
    "A = []\n",
    "\n",
    "for el in actors_array:\n",
    "    A.append(el.descriptor)\n"
   ]
  },
  {
   "cell_type": "code",
   "execution_count": 16,
   "metadata": {},
   "outputs": [],
   "source": [
    "tree = KDTree(A)"
   ]
  },
  {
   "cell_type": "code",
   "execution_count": 20,
   "metadata": {},
   "outputs": [
    {
     "name": "stdout",
     "output_type": "stream",
     "text": [
      "(array([0.        , 0.64704991, 0.71286037, 0.73707022, 0.75367132,\n",
      "       0.80226753, 0.81493957, 0.81707712, 0.8213828 , 0.8252565 ]), array([40, 32, 24, 12, 29, 35, 20, 42, 28, 25]))\n"
     ]
    }
   ],
   "source": [
    "print(tree.query(actors_array[40].descriptor, k=10))"
   ]
  },
  {
   "cell_type": "code",
   "execution_count": 19,
   "metadata": {
    "scrolled": true
   },
   "outputs": [
    {
     "name": "stdout",
     "output_type": "stream",
     "text": [
      " Victoria Yeates\n",
      "\n"
     ]
    }
   ],
   "source": [
    "print(actors_array[40].name)"
   ]
  },
  {
   "cell_type": "code",
   "execution_count": null,
   "metadata": {},
   "outputs": [],
   "source": []
  }
 ],
 "metadata": {
  "kernelspec": {
   "display_name": "Python 3",
   "language": "python",
   "name": "python3"
  },
  "language_info": {
   "codemirror_mode": {
    "name": "ipython",
    "version": 3
   },
   "file_extension": ".py",
   "mimetype": "text/x-python",
   "name": "python",
   "nbconvert_exporter": "python",
   "pygments_lexer": "ipython3",
   "version": "3.7.4"
  }
 },
 "nbformat": 4,
 "nbformat_minor": 2
}
