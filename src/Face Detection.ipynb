{
 "cells": [
  {
   "cell_type": "code",
   "execution_count": null,
   "metadata": {},
   "outputs": [],
   "source": [
    "import dlib\n",
    "from skimage import io\n",
    "from imageio import imread\n",
    "from scipy.spatial import distance, KDTree\n",
    "import json\n",
    "import urllib\n",
    "from bs4 import BeautifulSoup as bs\n",
    "import re\n",
    "\n",
    "hdr = {'User-Agent': 'Mozilla/5.0 (X11; Linux x86_64) AppleWebKit/537.11 (KHTML, like Gecko) Chrome/23.0.1271.64 Safari/537.11',\n",
    "       'Accept': 'text/html,application/xhtml+xml,application/xml;q=0.9,*/*;q=0.8',\n",
    "       'Accept-Charset': 'ISO-8859-1,utf-8;q=0.7,*;q=0.3',\n",
    "       'Accept-Encoding': 'none',\n",
    "       'Accept-Language': 'en-US,en;q=0.8',\n",
    "       'Connection': 'keep-alive'}"
   ]
  },
  {
   "cell_type": "code",
   "execution_count": null,
   "metadata": {},
   "outputs": [],
   "source": [
    "sp = dlib.shape_predictor('../models/shape_predictor_68_face_landmarks.dat')\n",
    "facerec = dlib.face_recognition_model_v1('../models/dlib_face_recognition_resnet_model_v1.dat')\n",
    "detector = dlib.get_frontal_face_detector()\n",
    "\n",
    "class FaceDetecting:\n",
    "\n",
    "    descriptor = None\n",
    "    \n",
    "    def __init__(self, person_name: str, person_image: str, photo_link: str, person_info=''):\n",
    "        self.name = person_name\n",
    "        self.image = person_image\n",
    "        self.info = person_info\n",
    "        self.descriptor = self.find_descriptor()\n",
    "        self.photo_link = photo_link\n",
    "    \n",
    "    def find_descriptor(self):\n",
    "        dets = detector(self.image, 1)\n",
    "        \n",
    "        for k, d in enumerate(dets):\n",
    "            shape = sp(self.image, d)\n",
    "        \n",
    "        return facerec.compute_face_descriptor(self.image, shape)\n",
    "            \n",
    "\n",
    "def euclidian_distance(vector1, vector2):\n",
    "    return distance.euclidean(vector1, vector2)\n",
    "    "
   ]
  },
  {
   "cell_type": "code",
   "execution_count": null,
   "metadata": {},
   "outputs": [],
   "source": [
    "actors_array = []\n",
    "wrong_actors = []\n",
    "txt = open('actors2.txt', 'a')\n",
    "\n",
    "def get_actors_from_page(link: str, from_page: int):\n",
    "    bsp = bs(urllib.request.urlopen(link + str(from_page)).read())\n",
    "    actors = bsp.find(\"div\", {\"class\": \"lister-list\"}).find_all(\"div\", {\"class\": \"lister-item mode-detail\"})\n",
    "    for actor in actors:\n",
    "        try:\n",
    "            print(actor.find('img')['src'].split('@.')[0] + '@.1_V1_SY1000_CR0.jpg')\n",
    "            fd = FaceDetecting(person_name=actor.find('h3').find('a').text, person_image=imread(actor.find('img')['src'].split('@.')[0] + '@._V1_SY1000_CR0.jpg'), photo_link=actor.find('img')['src'].split('@.')[0] + '@._V1_SY1000_CR0.jpg')\n",
    "            actors_array.append((fd.name, fd.photo_link, str(list(fd.descriptor))))\n",
    "            txt.write(fd.name + '|' + fd.photo_link + '|' + str(list(fd.descriptor)))\n",
    "        except:\n",
    "            print('Wrong image format for :' + actor.find('h3').find('a').text)\n",
    "            wrong_actors.append(actor.find('h3').find('a').text)\n",
    "\n",
    "    return bsp.find(\"a\", {\"class\": \"lister-page-next next-page\"})['href']\n",
    "               \n",
    "link_part = 'search/name/?gender=male,female&start=1&ref_=rlm'\n",
    "\n",
    "for i in range(1):\n",
    "    print(link_part)\n",
    "    actors_array = []\n",
    "    link_part = get_actors_from_page('https://www.imdb.com/', link_part)"
   ]
  },
  {
   "cell_type": "code",
   "execution_count": null,
   "metadata": {},
   "outputs": [],
   "source": [
    "A = []\n",
    "\n",
    "for el in actors_array['actors']:\n",
    "    A.append(el['descriptor'])\n"
   ]
  },
  {
   "cell_type": "code",
   "execution_count": null,
   "metadata": {},
   "outputs": [],
   "source": [
    "list(A[0])"
   ]
  },
  {
   "cell_type": "code",
   "execution_count": null,
   "metadata": {},
   "outputs": [],
   "source": [
    "tree = KDTree(A)"
   ]
  },
  {
   "cell_type": "code",
   "execution_count": null,
   "metadata": {},
   "outputs": [],
   "source": [
    "print(tree.query(actors_array[40].descriptor, k=10))"
   ]
  },
  {
   "cell_type": "code",
   "execution_count": null,
   "metadata": {
    "scrolled": true
   },
   "outputs": [],
   "source": [
    "print(actors_array[40].image)"
   ]
  }
 ],
 "metadata": {
  "kernelspec": {
   "display_name": "Python 3",
   "language": "python",
   "name": "python3"
  },
  "language_info": {
   "codemirror_mode": {
    "name": "ipython",
    "version": 3
   },
   "file_extension": ".py",
   "mimetype": "text/x-python",
   "name": "python",
   "nbconvert_exporter": "python",
   "pygments_lexer": "ipython3",
   "version": "3.7.4"
  }
 },
 "nbformat": 4,
 "nbformat_minor": 2
}
